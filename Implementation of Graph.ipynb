{
 "cells": [
  {
   "cell_type": "markdown",
   "metadata": {},
   "source": [
    "# LAB | Implementation of Graphs\n"
   ]
  },
  {
   "cell_type": "markdown",
   "metadata": {},
   "source": [
    "\n",
    "## Overview\n"
   ]
  },
  {
   "cell_type": "markdown",
   "metadata": {},
   "source": [
    "\n",
    "This lesson will cover the implementation of graphs in Python, focusing on two primary representations: adjacency list and adjacency matrix. We will also explore operations such as insertion and deletion of nodes and edges, as well as searching and traversing the graph.\n"
   ]
  },
  {
   "cell_type": "markdown",
   "metadata": {},
   "source": [
    "\n",
    "## Instructions\n"
   ]
  },
  {
   "cell_type": "markdown",
   "metadata": {},
   "source": [
    "\n",
    "- Complete each section by understanding the concepts and implementing the provided code.\n",
    "- Test your code to ensure it behaves as expected.\n"
   ]
  },
  {
   "cell_type": "markdown",
   "metadata": {},
   "source": [
    "\n",
    "## A. Graph Representation Using Adjacency List\n"
   ]
  },
  {
   "cell_type": "markdown",
   "metadata": {},
   "source": [
    "\n",
    "In this section, we will implement a graph using an adjacency list. This representation uses a dictionary where keys are vertices and values are lists of adjacent vertices.\n"
   ]
  },
  {
   "cell_type": "markdown",
   "metadata": {},
   "source": [
    "\n",
    "### Key Concepts\n"
   ]
  },
  {
   "cell_type": "markdown",
   "metadata": {},
   "source": [
    "\n",
    "- **Vertex**: A node in the graph.\n",
    "- **Edge**: A connection between two vertices.\n"
   ]
  },
  {
   "cell_type": "markdown",
   "metadata": {},
   "source": [
    "\n",
    "### Implementation Steps\n",
    "\n",
    "1. Create a class `Graph` that contains a dictionary to represent the adjacency list.\n",
    "2. Implement methods to add and remove vertices and edges.\n"
   ]
  },
  {
   "cell_type": "markdown",
   "metadata": {},
   "source": [
    "### Explanation\n",
    "This cell demonstrates the implementation. Take a moment to check out the code and run the cell to see how it works."
   ]
  },
  {
   "cell_type": "code",
   "execution_count": 1,
   "metadata": {},
   "outputs": [],
   "source": [
    "class Graph:\n",
    "    def __init__(self):\n",
    "        self.graph = {}\n",
    "\n",
    "    def add_vertex(self, vertex):\n",
    "        if vertex not in self.graph:\n",
    "            self.graph[vertex] = []\n",
    "\n",
    "    def remove_vertex(self, vertex):\n",
    "        if vertex in self.graph:\n",
    "            del self.graph[vertex]\n",
    "            for v in self.graph:\n",
    "                if vertex in self.graph[v]:\n",
    "                    self.graph[v].remove(vertex)\n",
    "\n",
    "    def add_edge(self, vertex1, vertex2):\n",
    "        if vertex1 in self.graph and vertex2 in self.graph:\n",
    "            self.graph[vertex1].append(vertex2)\n",
    "            self.graph[vertex2].append(vertex1)  # For undirected graph\n",
    "\n",
    "    def remove_edge(self, vertex1, vertex2):\n",
    "        if vertex1 in self.graph and vertex2 in self.graph:\n",
    "            self.graph[vertex1].remove(vertex2)\n",
    "            self.graph[vertex2].remove(vertex1)  # For undirected graph\n"
   ]
  },
  {
   "cell_type": "code",
   "execution_count": 2,
   "metadata": {},
   "outputs": [],
   "source": [
    "# Example usage:\n",
    "g = Graph()\n",
    "g.add_vertex(1)\n",
    "g.add_vertex(2)\n",
    "g.add_edge(1, 2)\n",
    "g.remove_edge(1, 2)"
   ]
  },
  {
   "cell_type": "markdown",
   "metadata": {},
   "source": [
    "### Try It Yourself!\n",
    "Modify the implementation below or try writing your own version based on what you've learned above."
   ]
  },
  {
   "cell_type": "code",
   "execution_count": 3,
   "metadata": {},
   "outputs": [
    {
     "name": "stdout",
     "output_type": "stream",
     "text": [
      "A: ['B', 'C']\n",
      "B: ['A']\n",
      "C: ['A']\n",
      "\n",
      "Removing vertex 'A':\n",
      "B: []\n",
      "C: []\n"
     ]
    }
   ],
   "source": [
    "class Graph:\n",
    "    def __init__(self):\n",
    "        # Adjacency list representation: { vertex: [connected_vertices] }\n",
    "        self.adj_list = {}\n",
    "\n",
    "    def add_vertex(self, vertex):\n",
    "        \"\"\"Adds a vertex to the graph.\"\"\"\n",
    "        if vertex not in self.adj_list:\n",
    "            self.adj_list[vertex] = []\n",
    "        else:\n",
    "            print(f\"Vertex '{vertex}' already exists.\")\n",
    "\n",
    "    def add_edge(self, v1, v2):\n",
    "        \"\"\"Adds an edge between two vertices (undirected).\"\"\"\n",
    "        if v1 not in self.adj_list:\n",
    "            self.add_vertex(v1)\n",
    "        if v2 not in self.adj_list:\n",
    "            self.add_vertex(v2)\n",
    "        self.adj_list[v1].append(v2)\n",
    "        self.adj_list[v2].append(v1)\n",
    "\n",
    "    def remove_vertex(self, vertex):\n",
    "        \"\"\"Removes a vertex and all its edges.\"\"\"\n",
    "        if vertex in self.adj_list:\n",
    "            # Remove the vertex every other adjacency lists\n",
    "            for other in self.adj_list[vertex]:\n",
    "                self.adj_list[other].remove(vertex)\n",
    "            # Remove the vertex itself\n",
    "            del self.adj_list[vertex]\n",
    "        else:\n",
    "            print(f\"Vertex '{vertex}' not found.\")\n",
    "\n",
    "    def display(self):\n",
    "        \"\"\"Displays the graph as adjacency list.\"\"\"\n",
    "        for vertex, edges in self.adj_list.items():\n",
    "            print(f\"{vertex}: {edges}\")\n",
    "\n",
    "\n",
    "# Example usage\n",
    "if __name__ == \"__main__\":\n",
    "    g = Graph()\n",
    "    g.add_vertex(\"A\")\n",
    "    g.add_vertex(\"B\")\n",
    "    g.add_edge(\"A\", \"B\")\n",
    "    g.add_edge(\"A\", \"C\")  # \"C\" is auto-added\n",
    "    g.display()\n",
    "\n",
    "    print(\"\\nRemoving vertex 'A':\")\n",
    "    g.remove_vertex(\"A\")\n",
    "    g.display()\n"
   ]
  },
  {
   "cell_type": "markdown",
   "metadata": {},
   "source": [
    "\n",
    "## B. Graph Representation Using Adjacency Matrix\n"
   ]
  },
  {
   "cell_type": "markdown",
   "metadata": {},
   "source": [
    "\n",
    "In this section, we will implement a graph using an adjacency matrix. This representation uses a 2D list (matrix) where rows and columns represent vertices.\n"
   ]
  },
  {
   "cell_type": "markdown",
   "metadata": {},
   "source": [
    "\n",
    "### Key Concepts\n",
    "\n",
    "- **Adjacency Matrix**: A square matrix used to represent a finite graph.\n"
   ]
  },
  {
   "cell_type": "markdown",
   "metadata": {},
   "source": [
    "\n",
    "### Implementation Steps\n",
    "\n",
    "1. Create a class `GraphMatrix` that initializes a matrix based on the number of vertices.\n",
    "2. Implement methods to add and remove vertices and edges.\n"
   ]
  },
  {
   "cell_type": "markdown",
   "metadata": {},
   "source": [
    "### Explanation\n",
    "This cell demonstrates the implementation. Take a moment to check out the code and run the cell to see how it works."
   ]
  },
  {
   "cell_type": "code",
   "execution_count": 3,
   "metadata": {},
   "outputs": [],
   "source": [
    "class GraphMatrix:\n",
    "    def __init__(self, size):\n",
    "        self.size = size\n",
    "        self.matrix = [ [0] * size for _ in range(size)]\n",
    "\n",
    "    def add_edge(self, vertex1, vertex2):\n",
    "        if 0 <= vertex1 < self.size and 0 <= vertex2 < self.size:\n",
    "            self.matrix[vertex1][vertex2] = 1\n",
    "            self.matrix[vertex2][vertex1] = 1  # For undirected graph\n",
    "\n",
    "    def remove_edge(self, vertex1, vertex2):\n",
    "        if 0 <= vertex1 < self.size and 0 <= vertex2 < self.size:\n",
    "            self.matrix[vertex1][vertex2] = 0\n",
    "            self.matrix[vertex2][vertex1] = 0  # For undirected graph"
   ]
  },
  {
   "cell_type": "code",
   "execution_count": 4,
   "metadata": {},
   "outputs": [],
   "source": [
    "# Example usage:\n",
    "g_matrix = GraphMatrix(3)\n",
    "g_matrix.add_edge(0, 1)\n",
    "g_matrix.remove_edge(0, 1)"
   ]
  },
  {
   "cell_type": "markdown",
   "metadata": {},
   "source": [
    "### Try It Yourself!\n",
    "Modify the implementation below or try writing your own version based on what you've learned above."
   ]
  },
  {
   "cell_type": "code",
   "execution_count": 4,
   "metadata": {},
   "outputs": [
    {
     "name": "stdout",
     "output_type": "stream",
     "text": [
      "A: ['B', 'C']\n",
      "B: ['A']\n",
      "C: ['A']\n",
      "\n",
      "Removing vertex 'A':\n",
      "B: []\n",
      "C: []\n"
     ]
    }
   ],
   "source": [
    "class Graph:\n",
    "    def __init__(self):\n",
    "        # Adjacency list representation: { vertex: [connected_vertices] }\n",
    "        self.adj_list = {}\n",
    "\n",
    "    def add_vertex(self, vertex):\n",
    "        \"\"\"Adds a vertex to the graph.\"\"\"\n",
    "        if vertex not in self.adj_list:\n",
    "            self.adj_list[vertex] = []\n",
    "        else:\n",
    "            print(f\"Vertex '{vertex}' already exists.\")\n",
    "\n",
    "    def add_edge(self, v1, v2):\n",
    "        \"\"\"Adds an edge between two vertices (undirected).\"\"\"\n",
    "        if v1 not in self.adj_list:\n",
    "            self.add_vertex(v1)\n",
    "        if v2 not in self.adj_list:\n",
    "            self.add_vertex(v2)\n",
    "        self.adj_list[v1].append(v2)\n",
    "        self.adj_list[v2].append(v1)\n",
    "\n",
    "    def remove_vertex(self, vertex):\n",
    "        \"\"\"Removes a vertex and all its edges.\"\"\"\n",
    "        if vertex in self.adj_list:\n",
    "            # Remove the vertex from all other adjacency lists\n",
    "            for other in self.adj_list[vertex]:\n",
    "                self.adj_list[other].remove(vertex)\n",
    "            # Remove the vertex itself\n",
    "            del self.adj_list[vertex]\n",
    "        else:\n",
    "            print(f\"Vertex '{vertex}' not found.\")\n",
    "\n",
    "    def display(self):\n",
    "        \"\"\"Displays the graph as adjacency list.\"\"\"\n",
    "        for vertex, edges in self.adj_list.items():\n",
    "            print(f\"{vertex}: {edges}\")\n",
    "\n",
    "\n",
    "# Example usage\n",
    "if __name__ == \"__main__\":\n",
    "    g = Graph()\n",
    "    g.add_vertex(\"A\")\n",
    "    g.add_vertex(\"B\")\n",
    "    g.add_edge(\"A\", \"B\")\n",
    "    g.add_edge(\"A\", \"C\")  # \"C\" is auto-added\n",
    "    g.display()\n",
    "\n",
    "    print(\"\\nRemoving vertex 'A':\")\n",
    "    g.remove_vertex(\"A\")\n",
    "    g.display()\n"
   ]
  },
  {
   "cell_type": "markdown",
   "metadata": {},
   "source": [
    "### Operations on Adjacency List\n",
    " "
   ]
  },
  {
   "cell_type": "markdown",
   "metadata": {},
   "source": [
    "### Explanation\n",
    "Below cells demonstrate the implementation. Take a moment to check out the code and run the cells to see how it works."
   ]
  },
  {
   "cell_type": "markdown",
   "metadata": {},
   "source": [
    "\n",
    "#### Add Vertex\n",
    "\n",
    "This operation adds a new vertex to the graph.\n"
   ]
  },
  {
   "cell_type": "code",
   "execution_count": 5,
   "metadata": {},
   "outputs": [],
   "source": [
    "def add_vertex(self, vertex):\n",
    "    if vertex not in self.graph:\n",
    "        self.graph[vertex] = []"
   ]
  },
  {
   "cell_type": "markdown",
   "metadata": {},
   "source": [
    "### Try It Yourself!\n",
    "Modify the implementation below or try writing your own version based on what you've learned above."
   ]
  },
  {
   "cell_type": "code",
   "execution_count": 6,
   "metadata": {},
   "outputs": [],
   "source": [
    "def add_vertex(self, vertex):\n",
    "    \"\"\"\n",
    "    Adds a new vertex to the graph.\n",
    "    \n",
    "    Parameters:\n",
    "        vertex: Hashable value representing the vertex to be added.\n",
    "    \n",
    "    Returns:\n",
    "        bool: True if vertex was added, False if it already existed.\n",
    "    \"\"\"\n",
    "    if vertex in self.graph:\n",
    "        print(f\"Warning: Vertex '{vertex}' already exists.\")\n",
    "        return False\n",
    "    self.graph[vertex] = []\n",
    "    return True\n",
    "# docstring is useful, as is the warning message...better readability?\n"
   ]
  },
  {
   "cell_type": "markdown",
   "metadata": {},
   "source": [
    "\n",
    "#### Remove Vertex\n",
    "\n",
    "This operation removes a vertex from the graph along with its associated edges.\n"
   ]
  },
  {
   "cell_type": "code",
   "execution_count": 6,
   "metadata": {},
   "outputs": [],
   "source": [
    "def remove_vertex(self, vertex):\n",
    "    if vertex in self.graph:\n",
    "        del self.graph[vertex]\n",
    "        for v in self.graph:\n",
    "            if vertex in self.graph[v]:\n",
    "                self.graph[v].remove(vertex)\n"
   ]
  },
  {
   "cell_type": "markdown",
   "metadata": {},
   "source": [
    "### Try It Yourself!\n",
    "Modify the implementation below or try writing your own version based on what you've learned above."
   ]
  },
  {
   "cell_type": "code",
   "execution_count": 7,
   "metadata": {},
   "outputs": [],
   "source": [
    "def remove_vertex(self, vertex):\n",
    "    \"\"\"\n",
    "    Removes a vertex and all edges connected to it from the graph.\n",
    "\n",
    "    Parameters:\n",
    "        vertex: Hashable value representing the vertex to be removed.\n",
    "\n",
    "    Returns:\n",
    "        bool: True if the vertex was removed, False if it did not exist.\n",
    "    \"\"\"\n",
    "    if vertex not in self.graph:\n",
    "        print(f\"Warning: Vertex '{vertex}' does not exist.\")\n",
    "        return False\n",
    "\n",
    "    # Remove edges to this vertex from all other vertices\n",
    "    for adj in self.graph.values():\n",
    "        if vertex in adj:\n",
    "            adj.remove(vertex)\n",
    "\n",
    "    # Remove the vertex itself\n",
    "    del self.graph[vertex]\n",
    "    return True\n"
   ]
  },
  {
   "cell_type": "markdown",
   "metadata": {},
   "source": [
    "\n",
    "#### Add Edge\n",
    "\n",
    "This operation adds an edge between two vertices.\n"
   ]
  },
  {
   "cell_type": "code",
   "execution_count": 7,
   "metadata": {},
   "outputs": [],
   "source": [
    "def add_edge(self, vertex1, vertex2):\n",
    "    if vertex1 in self.graph and vertex2 in self.graph:\n",
    "        self.graph[vertex1].append(vertex2)\n",
    "        self.graph[vertex2].append(vertex1)  # For undirected graph\n",
    "\n"
   ]
  },
  {
   "cell_type": "markdown",
   "metadata": {},
   "source": [
    "### Try It Yourself!\n",
    "Modify the implementation below or try writing your own version based on what you've learned above."
   ]
  },
  {
   "cell_type": "code",
   "execution_count": 8,
   "metadata": {},
   "outputs": [],
   "source": [
    "def add_edge(self, vertex1, vertex2, auto_add=False):\n",
    "    \"\"\"\n",
    "    Adds an undirected edge between two vertices in the graph.\n",
    "\n",
    "    Parameters:\n",
    "        vertex1: The first vertex.\n",
    "        vertex2: The second vertex.\n",
    "        auto_add (bool): If True, missing vertices will be added automatically.\n",
    "\n",
    "    Returns:\n",
    "        bool: True if the edge was successfully added, False otherwise.\n",
    "    \"\"\"\n",
    "    if vertex1 not in self.graph or vertex2 not in self.graph:\n",
    "        if auto_add:\n",
    "            self.graph.setdefault(vertex1, [])\n",
    "            self.graph.setdefault(vertex2, [])\n",
    "        else:\n",
    "            print(f\"Error: One or both vertices '{vertex1}', '{vertex2}' do not exist.\")\n",
    "            return False\n",
    "\n",
    "    # Avoid adding duplicate edges\n",
    "    if vertex2 not in self.graph[vertex1]:\n",
    "        self.graph[vertex1].append(vertex2)\n",
    "    if vertex1 not in self.graph[vertex2]:\n",
    "        self.graph[vertex2].append(vertex1)\n",
    "\n",
    "    return True\n"
   ]
  },
  {
   "cell_type": "markdown",
   "metadata": {},
   "source": [
    "\n",
    "#### Remove Edge\n",
    "\n",
    "This operation removes an edge between two vertices.\n"
   ]
  },
  {
   "cell_type": "code",
   "execution_count": 8,
   "metadata": {},
   "outputs": [],
   "source": [
    "def remove_edge(self, vertex1, vertex2):\n",
    "    if vertex1 in self.graph and vertex2 in self.graph:\n",
    "        self.graph[vertex1].remove(vertex2)\n",
    "        self.graph[vertex2].remove(vertex1)  # For undirected graph\n",
    "\n"
   ]
  },
  {
   "cell_type": "markdown",
   "metadata": {},
   "source": [
    "### Try It Yourself!\n",
    "Modify the implementation below or try writing your own version based on what you've learned above."
   ]
  },
  {
   "cell_type": "code",
   "execution_count": 10,
   "metadata": {},
   "outputs": [],
   "source": [
    "# this feels clear\n",
    "def remove_edge(self, vertex1, vertex2):\n",
    "    \"\"\"\n",
    "    Removes an undirected edge between two vertices if it exists.\n",
    "\n",
    "    Parameters:\n",
    "        vertex1: The first vertex.\n",
    "        vertex2: The second vertex.\n",
    "\n",
    "    Returns:\n",
    "        bool: True if the edge was removed, False otherwise.\n",
    "    \"\"\"\n",
    "    if vertex1 not in self.graph or vertex2 not in self.graph:\n",
    "        print(f\"Error: One or both vertices '{vertex1}', '{vertex2}' do not exist.\")\n",
    "        return False\n",
    "\n",
    "    removed = False\n",
    "\n",
    "    if vertex2 in self.graph[vertex1]:\n",
    "        self.graph[vertex1].remove(vertex2)\n",
    "        removed = True\n",
    "    else:\n",
    "        print(f\"Warning: No edge from '{vertex1}' to '{vertex2}'.\")\n",
    "\n",
    "    if vertex1 in self.graph[vertex2]:\n",
    "        self.graph[vertex2].remove(vertex1)\n",
    "        removed = True\n",
    "    else:\n",
    "        print(f\"Warning: No edge from '{vertex2}' to '{vertex1}'.\")\n",
    "\n",
    "    return removed\n"
   ]
  },
  {
   "cell_type": "markdown",
   "metadata": {},
   "source": [
    "\n",
    "### Example Usage for Adjacency List\n"
   ]
  },
  {
   "cell_type": "code",
   "execution_count": 9,
   "metadata": {},
   "outputs": [],
   "source": [
    "g = Graph()\n",
    "g.add_vertex(1)\n",
    "g.add_vertex(2)\n",
    "g.add_edge(1, 2)\n",
    "g.remove_edge(1, 2)\n",
    "g.remove_vertex(1)"
   ]
  },
  {
   "cell_type": "markdown",
   "metadata": {},
   "source": [
    "### Operations on Adjacency Matrix\n"
   ]
  },
  {
   "cell_type": "markdown",
   "metadata": {},
   "source": [
    "\n",
    "#### Add Edge\n",
    "\n",
    "This operation adds an edge between two vertices in the adjacency matrix.\n"
   ]
  },
  {
   "cell_type": "code",
   "execution_count": 10,
   "metadata": {},
   "outputs": [],
   "source": [
    "def add_edge(self, vertex1, vertex2):\n",
    "    if 0 <= vertex1 < self.size and 0 <= vertex2 < self.size:\n",
    "        self.matrix[vertex1][vertex2] = 1\n",
    "        self.matrix[vertex2][vertex1] = 1  # For undirected graph"
   ]
  },
  {
   "cell_type": "markdown",
   "metadata": {},
   "source": [
    "### Try It Yourself!\n",
    "Modify the implementation below or try writing your own version based on what you've learned above."
   ]
  },
  {
   "cell_type": "code",
   "execution_count": 11,
   "metadata": {},
   "outputs": [],
   "source": [
    "def add_edge(self, vertex1, vertex2, weight=1):\n",
    "    \"\"\"\n",
    "    Adds an undirected edge between two vertices in the adjacency matrix.\n",
    "\n",
    "    Parameters:\n",
    "        vertex1 (int): Index of the first vertex.\n",
    "        vertex2 (int): Index of the second vertex.\n",
    "        weight (int or float): Weight of the edge (default is 1).\n",
    "\n",
    "    Returns:\n",
    "        True if the edge was added, False otherwise. - boolean\n",
    "    \"\"\"\n",
    "    if not (0 <= vertex1 < self.size) or not (0 <= vertex2 < self.size):\n",
    "        print(f\"Error: Vertex indices must be between 0 and {self.size - 1}.\")\n",
    "        return False\n",
    "\n",
    "    if self.matrix[vertex1][vertex2] != 0:\n",
    "        print(f\"Warning: Edge already exists between {vertex1} and {vertex2}.\")\n",
    "        return False\n",
    "\n",
    "    self.matrix[vertex1][vertex2] = weight\n",
    "    self.matrix[vertex2][vertex1] = weight  # For undirected graph\n",
    "    return True\n"
   ]
  },
  {
   "cell_type": "markdown",
   "metadata": {},
   "source": [
    "\n",
    "#### Remove Edge\n",
    "\n",
    "This operation removes an edge between two vertices in the adjacency matrix.\n"
   ]
  },
  {
   "cell_type": "code",
   "execution_count": 11,
   "metadata": {},
   "outputs": [],
   "source": [
    "def remove_edge(self, vertex1, vertex2):\n",
    "    if 0 <= vertex1 < self.size and 0 <= vertex2 < self.size:\n",
    "        self.matrix[vertex1][vertex2] = 0\n",
    "        self.matrix[vertex2][vertex1] = 0  # For undirected graph"
   ]
  },
  {
   "cell_type": "markdown",
   "metadata": {},
   "source": [
    "### Try It Yourself!\n",
    "Modify the implementation below or try writing your own version based on what you've learned above."
   ]
  },
  {
   "cell_type": "code",
   "execution_count": 12,
   "metadata": {},
   "outputs": [],
   "source": [
    "def remove_edge(self, vertex1, vertex2):\n",
    "    \"\"\"\n",
    "    Removes an undirected edge between two vertices in the adjacency matrix.\n",
    "\n",
    "    Parameters:\n",
    "        vertex1 (int): Index of the first vertex.\n",
    "        vertex2 (int): Index of the second vertex.\n",
    "\n",
    "    Returns:\n",
    "        bool: True if the edge was removed, False if vertices are invalid or edge doesn't exist.\n",
    "    \"\"\"\n",
    "    if not (0 <= vertex1 < self.size) or not (0 <= vertex2 < self.size):\n",
    "        print(f\"Error: Vertex indices must be between 0 and {self.size - 1}.\")\n",
    "        return False\n",
    "\n",
    "    if self.matrix[vertex1][vertex2] == 0:\n",
    "        print(f\"Warning: No edge exists between vertex {vertex1} and {vertex2}.\")\n",
    "        return False\n",
    "\n",
    "    self.matrix[vertex1][vertex2] = 0\n",
    "    self.matrix[vertex2][vertex1] = 0  # For undirected graph\n",
    "    return True\n"
   ]
  },
  {
   "cell_type": "markdown",
   "metadata": {},
   "source": [
    "\n",
    "### Example Usage for Adjacency Matrix\n"
   ]
  },
  {
   "cell_type": "code",
   "execution_count": 12,
   "metadata": {},
   "outputs": [],
   "source": [
    "g_matrix = GraphMatrix(3)\n",
    "g_matrix.add_edge(0, 1)\n",
    "g_matrix.remove_edge(0, 1)"
   ]
  },
  {
   "cell_type": "markdown",
   "metadata": {},
   "source": [
    "\n",
    "## Exercise Completion\n"
   ]
  },
  {
   "cell_type": "markdown",
   "metadata": {},
   "source": [
    "\n",
    "Once you have completed all sections:\n",
    "\n",
    "- Review your implementations.\n",
    "- Ensure your code is well-documented with comments explaining your logic.\n",
    "- Save your notebook for submission or further review.\n"
   ]
  },
  {
   "cell_type": "markdown",
   "metadata": {},
   "source": [
    "\n",
    "Happy coding! Enjoy practicing Graph implementations in Python!\n",
    "\n"
   ]
  }
 ],
 "metadata": {
  "kernelspec": {
   "display_name": "Python 3",
   "language": "python",
   "name": "python3"
  },
  "language_info": {
   "codemirror_mode": {
    "name": "ipython",
    "version": 3
   },
   "file_extension": ".py",
   "mimetype": "text/x-python",
   "name": "python",
   "nbconvert_exporter": "python",
   "pygments_lexer": "ipython3",
   "version": "3.13.3"
  }
 },
 "nbformat": 4,
 "nbformat_minor": 2
}
